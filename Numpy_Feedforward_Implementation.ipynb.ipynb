{
 "cells": [
  {
   "cell_type": "markdown",
   "metadata": {},
   "source": [
    "# Aim :\n",
    "\n",
    "Implement Forward Pass"
   ]
  },
  {
   "cell_type": "code",
   "execution_count": 10,
   "metadata": {},
   "outputs": [
    {
     "name": "stdout",
     "output_type": "stream",
     "text": [
      "Predicted Output: [0.63082325 0.64457064]\n",
      "Loss: 0.20054738220483037\n"
     ]
    }
   ],
   "source": [
    "import numpy as np\n",
    "\n",
    "class FeedforwardNeuralNetwork:\n",
    "    def __init__(self):\n",
    "        self.weights = np.array([[0.15, 0.20],  # Weights from input to hidden layer (h1, h2)\n",
    "                                 [0.25, 0.30],  # Weights from input to hidden layer (h1, h2)\n",
    "                                 [0.40, 0.45],  # Weights from h1 to output layer (o1, o2)\n",
    "                                 [0.50, 0.55]]) # Weights from h2 to output layer (o1, o2)\n",
    "        \n",
    "        self.biases = np.array([0.35, 0.35])  # Biases for h1, h2, o1, o2\n",
    "\n",
    "    def sigmoid(self, x):\n",
    "        return 1 / (1 + np.exp(-x))\n",
    "\n",
    "    def forward(self, x):\n",
    "        h1_input = np.dot(x, self.weights[0]) + self.biases[0]  # h1\n",
    "        h2_input = np.dot(x, self.weights[1]) + self.biases[1]  # h2\n",
    "\n",
    "        h1_output = self.sigmoid(h1_input)\n",
    "        h2_output = self.sigmoid(h2_input)\n",
    "        \n",
    "        o1_input = h1_output * self.weights[2][0] + h2_output * self.weights[3][0] \n",
    "        o2_input = h1_output * self.weights[2][1] + h2_output * self.weights[3][1] \n",
    "        \n",
    "        # Activation for output layer\n",
    "        o1_output = self.sigmoid(o1_input)\n",
    "        o2_output = self.sigmoid(o2_input)\n",
    "        \n",
    "        return np.array([o1_output, o2_output])\n",
    "\n",
    "    def compute_loss(self, output, target):\n",
    "        return np.mean((output - target) ** 2)\n",
    "\n",
    "if __name__ == \"__main__\":\n",
    "    input_sample = np.array([0.05, 0.10])  \n",
    "    target_output = np.array([0.1, 0.99])   \n",
    "\n",
    "    nn = FeedforwardNeuralNetwork()\n",
    "\n",
    "    #forward pass\n",
    "    output = nn.forward(input_sample)\n",
    "\n",
    "    loss = nn.compute_loss(output, target_output)\n",
    "    print(f\"Predicted Output: {output}\")\n",
    "    print(f\"Loss: {loss}\")"
   ]
  },
  {
   "cell_type": "markdown",
   "metadata": {},
   "source": []
  },
  {
   "cell_type": "code",
   "execution_count": null,
   "metadata": {},
   "outputs": [],
   "source": []
  },
  {
   "cell_type": "code",
   "execution_count": null,
   "metadata": {},
   "outputs": [],
   "source": []
  },
  {
   "cell_type": "code",
   "execution_count": null,
   "metadata": {},
   "outputs": [],
   "source": []
  },
  {
   "cell_type": "code",
   "execution_count": null,
   "metadata": {},
   "outputs": [],
   "source": []
  },
  {
   "cell_type": "code",
   "execution_count": null,
   "metadata": {},
   "outputs": [],
   "source": []
  },
  {
   "cell_type": "code",
   "execution_count": null,
   "metadata": {},
   "outputs": [],
   "source": []
  },
  {
   "cell_type": "code",
   "execution_count": null,
   "metadata": {},
   "outputs": [],
   "source": []
  }
 ],
 "metadata": {
  "kernelspec": {
   "display_name": "Python 3",
   "language": "python",
   "name": "python3"
  },
  "language_info": {
   "codemirror_mode": {
    "name": "ipython",
    "version": 3
   },
   "file_extension": ".py",
   "mimetype": "text/x-python",
   "name": "python",
   "nbconvert_exporter": "python",
   "pygments_lexer": "ipython3",
   "version": "3.12.3"
  }
 },
 "nbformat": 4,
 "nbformat_minor": 2
}
